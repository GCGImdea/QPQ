{
 "cells": [
  {
   "cell_type": "code",
   "execution_count": 7,
   "metadata": {},
   "outputs": [],
   "source": [
    "import numpy as np\n",
    "import pandas as pd\n",
    "import matplotlib.pyplot as plt\n",
    "from scipy import stats\n",
    "from scipy.stats import beta\n",
    "from scipy.ndimage.interpolation import shift\n",
    "import seaborn as sns\n",
    "import scipy.stats as ss"
   ]
  },
  {
   "cell_type": "code",
   "execution_count": 23,
   "metadata": {},
   "outputs": [
    {
     "name": "stdout",
     "output_type": "stream",
     "text": [
      "[ True  True  True  True  True  True  True  True False False False False\n",
      " False False False False False False False False False False False False\n",
      " False False False False False False False False False False False False\n",
      " False False False False False False False False False False False False\n",
      " False False False False False False False False False False False False\n",
      " False False False False]\n",
      "[False False False False False False False False False False False False\n",
      " False False False False False False False  True False  True False False\n",
      " False False False False False False  True False  True False False False\n",
      " False False False  True False False False  True False False False False\n",
      " False False False False False False False False False False False False\n",
      " False False  True  True]\n"
     ]
    }
   ],
   "source": [
    "betaf =1.9\n",
    "numplayers = 64\n",
    "rounds = 1000\n",
    "numLiars = 8\n",
    "\n",
    "trueVals = np.random.uniform(0, 1, (numplayers, rounds))\n",
    "declaredVals = np.array(trueVals, copy=True)\n",
    "\n",
    "liarsPos = np.full(numplayers, True)\n",
    "liarsPos[numLiars:] = False\n",
    "print(liarsPos)\n",
    "np.random.shuffle(liarsPos)\n",
    "print(liarsPos)\n",
    "\n",
    "norm = stats.distributions.beta(betaf, 1)\n",
    "declaredVals[liarsPos, :] = norm.ppf(trueVals[liarsPos, :])"
   ]
  },
  {
   "cell_type": "code",
   "execution_count": 34,
   "metadata": {},
   "outputs": [
    {
     "name": "stdout",
     "output_type": "stream",
     "text": [
      "[ 0  1  2  3  4  5  6  7  8  9 10 11 12 13 14 15 16 17 18 20 22 23 24 25\n",
      " 26 27 28 29 31 33 34 35 36 37 38 40 41 42 44 45 46 47 48 49 50 51 52 53\n",
      " 54 55 56 57 58 59 60 61]\n"
     ]
    },
    {
     "data": {
      "text/plain": [
       "[<matplotlib.lines.Line2D at 0x2283eac0eb8>]"
      ]
     },
     "execution_count": 34,
     "metadata": {},
     "output_type": "execute_result"
    },
    {
     "data": {
      "image/png": "[encoded data removed]",
      "text/plain": [
       "<Figure size 432x288 with 1 Axes>"
      ]
     },
     "metadata": {
      "needs_background": "light"
     },
     "output_type": "display_data"
    }
   ],
   "source": [
    "Tpos = np.where(liarsPos == False)[0]\n",
    "print(Tpos)\n",
    "plt.plot(liarsPos)"
   ]
  },
  {
   "cell_type": "code",
   "execution_count": 33,
   "metadata": {},
   "outputs": [
    {
     "name": "stdout",
     "output_type": "stream",
     "text": [
      "[19 21 30 32 39 43 62 63]\n"
     ]
    }
   ],
   "source": [
    "Fpos = np.where(liarsPos == True)[0]\n",
    "print(Fpos)"
   ]
  },
  {
   "cell_type": "code",
   "execution_count": 36,
   "metadata": {},
   "outputs": [
    {
     "name": "stdout",
     "output_type": "stream",
     "text": [
      "0\n"
     ]
    },
    {
     "data": {
      "image/png": "[encoded data removed]",
      "text/plain": [
       "<Figure size 432x288 with 1 Axes>"
      ]
     },
     "metadata": {
      "needs_background": "light"
     },
     "output_type": "display_data"
    }
   ],
   "source": [
    "firstHonest = Tpos[0]\n",
    "print(firstHonest)\n",
    "#plots the histogram\n",
    "colors = ['b','g']\n",
    "labes =['True','Declared']\n",
    "fig, ax1 = plt.subplots()\n",
    "ax1.hist([trueVals[firstHonest,:],declaredVals[firstHonest,:]],alpha=0.5,color=colors)\n",
    "ax1.set_xlim(0,1)\n",
    "ax1.set_ylabel(\"Count\")\n",
    "plt.tight_layout()\n",
    "plt.show()"
   ]
  },
  {
   "cell_type": "code",
   "execution_count": 37,
   "metadata": {},
   "outputs": [
    {
     "name": "stdout",
     "output_type": "stream",
     "text": [
      "19\n"
     ]
    },
    {
     "data": {
      "image/png": "[encoded data removed]",
      "text/plain": [
       "<Figure size 432x288 with 1 Axes>"
      ]
     },
     "metadata": {
      "needs_background": "light"
     },
     "output_type": "display_data"
    }
   ],
   "source": [
    "firstLiar = Fpos[0]\n",
    "print(firstLiar)\n",
    "#plots the histogram\n",
    "colors = ['b','g']\n",
    "labes =['True','Declared']\n",
    "fig, ax1 = plt.subplots()\n",
    "ax1.hist([trueVals[firstLiar,:],declaredVals[firstLiar,:]],alpha=0.5,color=colors)\n",
    "ax1.set_xlim(0,1)\n",
    "ax1.set_ylabel(\"Count\")\n",
    "plt.tight_layout()\n",
    "plt.show()"
   ]
  },
  {
   "cell_type": "code",
   "execution_count": 41,
   "metadata": {},
   "outputs": [
    {
     "data": {
      "text/plain": [
       "KstestResult(statistic=0.016635917118128063, pvalue=0.9447840573176339)"
      ]
     },
     "execution_count": 41,
     "metadata": {},
     "output_type": "execute_result"
    }
   ],
   "source": [
    "ss.kstest(trueVals[firstHonest, :], 'uniform')"
   ]
  },
  {
   "cell_type": "code",
   "execution_count": 42,
   "metadata": {},
   "outputs": [
    {
     "data": {
      "text/plain": [
       "KstestResult(statistic=0.024406019703676507, pvalue=0.5906497098351218)"
      ]
     },
     "execution_count": 42,
     "metadata": {},
     "output_type": "execute_result"
    }
   ],
   "source": [
    "ss.kstest(trueVals[firstLiar, :], 'uniform')"
   ]
  },
  {
   "cell_type": "code",
   "execution_count": null,
   "metadata": {},
   "outputs": [],
   "source": []
  }
 ],
 "metadata": {
  "kernelspec": {
   "display_name": "Python 3",
   "language": "python",
   "name": "python3"
  },
  "language_info": {
   "codemirror_mode": {
    "name": "ipython",
    "version": 3
   },
   "file_extension": ".py",
   "mimetype": "text/x-python",
   "name": "python",
   "nbconvert_exporter": "python",
   "pygments_lexer": "ipython3",
   "version": "3.7.3"
  }
 },
 "nbformat": 4,
 "nbformat_minor": 2
}
