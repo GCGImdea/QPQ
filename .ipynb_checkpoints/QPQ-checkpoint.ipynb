{
 "cells": [
  {
   "cell_type": "markdown",
   "metadata": {},
   "source": [
    "# Basic QPQ algorithm\n",
    "\n",
    "\n",
    "- 1: Estimate the preference $θ_i(r)$\n",
    "- 2: Calculate the normalized preference $\\bar{\\theta}_i(r)=\\mathit{PIT}_i(\\theta_i(r))$\n",
    "- 3: Declare a value $\\dot{\\theta}_i(r)$ that represents her normalized preference.\n",
    "- 4: Wait to receive the published normalized preferences  ̇$\\dot{\\theta}_j(r)$ from all players\n",
    "- 5: For all $j \\in N$ do\n",
    "    - 6: if not GoF_Test($\\dot{\\theta}_j(r)$) then\n",
    "        - 7:  ̈$\\ddot{\\theta}_j(r) \\leftarrow \\hat{\\theta}_j(r)$, where $\\hat{\\theta}_j(r) := \\textrm{Pseudorandom}(\\dot{\\theta}_{-j}(r))$)\n",
    "    - 8: else\n",
    "        - 9:  ̈$\\ddot{\\theta}_j(r)$ $\\leftarrow$ $\\dot{\\theta}_{j}(r)$\n",
    "    - 10: end if\n",
    "    - 11: $\\mathit{History}_j$ $\\leftarrow$ $\\mathit{History}_j \\cup \\{\\ddot{\\theta}_j(r)\\}$\n",
    "- 12: end for\n",
    "- 13: Let $d=\\arg \\max_{j\\in\\mathcal{N}} \\{ \\ddot{\\theta}_j(r) \\}$\n",
    "- 14: if $d = i$ then\n",
    "    - 15: Player i gets resource r\n",
    "- 16: end if"
   ]
  },
  {
   "cell_type": "code",
   "execution_count": null,
   "metadata": {},
   "outputs": [],
   "source": [
    "# Values is a matrix (N x r) or (number of playes x number of rounds)\n",
    "def QPQ(declaredVals, trueVals, histlen, maxpval, KSTest=True, debug=True):\n",
    "    dims = declaredVals.shape\n",
    "    N = dims[0] # number of players\n",
    "    R = dims[1] # number of rounds\n",
    "    decisions = np.full(R, np.nan)\n",
    "    historic = np.full((N, histlen), np.nan) # Empty history matrix (N x histlen) or (number of playes x History Len)\n",
    "    \n",
    "    utilities = np.zeros((N, R)) # Empty utility matrix (N x R)\n",
    "    falsenegatives = np.zeros((N, R)) # Empty utility matrix (N x R)\n",
    "    for i in range(R):\n",
    "        # Roll historic to the left\n",
    "        if (i > histlen):\n",
    "            historic = np.roll(historic, -1, axis=1)\n",
    "            \n",
    "        theta = np.zeros(N)\n",
    "        # copy declared values at the end of the historic\n",
    "        historic[:, min(i, histlen - 1)] = declaredVals[: , i]\n",
    "        \n",
    "        for j in range(N):\n",
    "            if debug: \n",
    "                print (\"player \", j, \" has values \", historic[j])\n",
    "            if KSTest and stats.kstest(historic[j, 0:min(i+1, histlen)], 'uniform').pvalue < (1 - maxpval):\n",
    "                if debug: print(\"False negative\")\n",
    "                theta[j] = np.random.uniform(0, 1, 1)\n",
    "                falsenegatives[j, i] = 1\n",
    "            else:\n",
    "                theta[j] = declaredVals[j, i]\n",
    "                \n",
    "        \n",
    "        d = int(np.argmin(theta))\n",
    "        if debug: print(\"Win player \", d)\n",
    "        decisions[i] = d\n",
    "        utilities[d, i] = trueVals[d, i]\n",
    "    return decisions, utilities, falsenegatives"
   ]
  }
 ],
 "metadata": {
  "kernelspec": {
   "display_name": "Python 3",
   "language": "python",
   "name": "python3"
  },
  "language_info": {
   "codemirror_mode": {
    "name": "ipython",
    "version": 3
   },
   "file_extension": ".py",
   "mimetype": "text/x-python",
   "name": "python",
   "nbconvert_exporter": "python",
   "pygments_lexer": "ipython3",
   "version": "3.7.3"
  }
 },
 "nbformat": 4,
 "nbformat_minor": 2
}
